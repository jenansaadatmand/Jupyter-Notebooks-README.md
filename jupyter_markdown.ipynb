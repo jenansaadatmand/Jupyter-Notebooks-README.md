{
 "cells": [
  {
   "cell_type": "code",
   "execution_count": 7,
   "id": "b3b53943-64be-45fb-95eb-3ca590545478",
   "metadata": {},
   "outputs": [
    {
     "name": "stdout",
     "output_type": "stream",
     "text": [
      "Hello Jupyter!\n"
     ]
    }
   ],
   "source": [
    "print(\"Hello Jupyter!\")"
   ]
  },
  {
   "cell_type": "code",
   "execution_count": 8,
   "id": "6b338ef7-1ca0-4f33-bc0b-cf6469bf5568",
   "metadata": {},
   "outputs": [
    {
     "name": "stdout",
     "output_type": "stream",
     "text": [
      "H\n",
      "e\n",
      "l\n",
      "l\n",
      "o\n",
      ",\n",
      " \n",
      "J\n",
      "u\n",
      "p\n",
      "y\n",
      "t\n",
      "e\n",
      "r\n"
     ]
    }
   ],
   "source": [
    "for letter in \"Hello, Jupyter\":\n",
    "    print(letter)"
   ]
  },
  {
   "cell_type": "markdown",
   "id": "5dd12676-2f1e-4fd3-bfd5-d22705649597",
   "metadata": {},
   "source": [
    "I can write **documentation** in https://www.linkedin.com/in/jenansaadatmand/)\n",
    "*list -list *italic* A formula $\\sqrt(1+x)$\n",
    "# Heading c"
   ]
  },
  {
   "cell_type": "markdown",
   "id": "223e1c4f-ff84-4db1-ba71-89b5f2f93897",
   "metadata": {},
   "source": []
  }
 ],
 "metadata": {
  "kernelspec": {
   "display_name": "Python 3 (ipykernel)",
   "language": "python",
   "name": "python3"
  },
  "language_info": {
   "codemirror_mode": {
    "name": "ipython",
    "version": 3
   },
   "file_extension": ".py",
   "mimetype": "text/x-python",
   "name": "python",
   "nbconvert_exporter": "python",
   "pygments_lexer": "ipython3",
   "version": "3.11.5"
  }
 },
 "nbformat": 4,
 "nbformat_minor": 5
}
